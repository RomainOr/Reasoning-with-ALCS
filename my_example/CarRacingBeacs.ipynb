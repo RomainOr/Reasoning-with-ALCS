{
 "cells": [
  {
   "cell_type": "markdown",
   "metadata": {},
   "source": [
    "\n",
    "    This Source Code Form is subject to the terms of the Mozilla Public\n",
    "    License, v. 2.0. If a copy of the MPL was not distributed with this\n",
    "    file, You can obtain one at http://mozilla.org/MPL/2.0/.\n"
   ]
  },
  {
   "cell_type": "code",
   "execution_count": null,
   "metadata": {
    "scrolled": true
   },
   "outputs": [],
   "source": [
    "# Enable automatic module reload\n",
    "%load_ext autoreload\n",
    "%autoreload 2\n",
    "\n",
    "# To ease the loading of modules\n",
    "import os\n",
    "import sys\n",
    "module_path = os.path.abspath(os.path.join('..'))\n",
    "if module_path not in sys.path:\n",
    "    sys.path.append(module_path)\n",
    "\n",
    "# Load BEACS module\n",
    "#from beacs.agents.beacs import BEACS, Configuration\n",
    "\n",
    "# Load particular Environment Adapter\n",
    "#from my_example.adapter.CartPoleEnvironmentAdapter import CartPoleEnvironmentAdapter\n",
    "\n",
    "# Load Metrics\n",
    "#from my_example.metrics.CartPoleMetrics import _cartpole_metrics\n",
    "\n",
    "# Load Plotting Wrappers\n",
    "#from my_example.metrics.CartPolePlottingWrapper import \\\n",
    "#    parse_metrics_to_df, \\\n",
    "#    plot_cartpole_performance, \\\n",
    "#    plot_average_cartpole_performance\n",
    "\n",
    "# Load environments\n",
    "import gym, random"
   ]
  },
  {
   "cell_type": "markdown",
   "metadata": {},
   "source": [
    "# Agent - BEACS"
   ]
  },
  {
   "cell_type": "markdown",
   "metadata": {},
   "source": [
    "## Common parameters"
   ]
  },
  {
   "cell_type": "code",
   "execution_count": null,
   "metadata": {
    "scrolled": true
   },
   "outputs": [],
   "source": [
    "#Environmental Set Up\n",
    "CLASSIFIER_LENGTH = 4\n",
    "NUMBER_OF_POSSIBLE_ACTIONS = 2\n",
    "CARRACING = \"CarRacing-v0\"\n",
    "\n",
    "#Exploration Set Up\n",
    "NUMBER_OF_EXPLORE_TRIALS = 500\n",
    "METRICS_TRIAL_FREQUENCY_EXPLORE = 1\n",
    "EPSILON = 0.5\n",
    "\n",
    "#Exploitation Set Up\n",
    "NUMBER_OF_EXPLOIT_TRIALS_NO_RL = 100\n",
    "BETA_EXPLOIT_NO_RL = 0.00\n",
    "NUMBER_OF_EXPLOIT_TRIALS_RL = 500\n",
    "BETA_EXPLOIT_RL = 0.05\n",
    "\n",
    "#RL Set Up\n",
    "GAMMA = 0.95\n",
    "BETA_RL = 0.05\n",
    "\n",
    "#BEACS Set Up\n",
    "DO_GA = False\n",
    "ENABLE_PEP = True\n",
    "LENGTH_OF_BEHAVIORAL_SEQUENCES = 0\n",
    "BETA_ALP = 0.05"
   ]
  },
  {
   "cell_type": "markdown",
   "metadata": {},
   "source": [
    "## Environment - CarRacing"
   ]
  },
  {
   "cell_type": "code",
   "execution_count": null,
   "metadata": {
    "scrolled": true
   },
   "outputs": [],
   "source": [
    "# Initialize environment\n",
    "CarRacing = gym.make(CARRACING)\n",
    "\n",
    "# Reset it, by putting an agent into random position\n",
    "CarRacing.reset()\n",
    "\n",
    "ACTION = {\n",
    "    'Turn_left':[ -1.0, 0.0, 0.0 ],\n",
    "    'Turn_right':[ +1.0, 0.0, 0.0 ],\n",
    "    'Accelerate':[ 0.0, 1.0, 0.0 ],\n",
    "    'Brake':[ 0.0, 0.0, 0.8 ],\n",
    "    'Do-Nothing':[ 0.0, 0.0, 0.0 ],\n",
    "}\n",
    "\n",
    "for _ in range(50):\n",
    "    CarRacing.render()\n",
    "    observation, reward, done, info = CarRacing.step(ACTION['Do-Nothing'])\n",
    "    if done:\n",
    "        break\n",
    "\n",
    "import numpy as np\n",
    "import matplotlib.pyplot as plt\n",
    "def rgb2gray(rgb):\n",
    "    return np.dot(rgb[...,:3], [0.2989, 0.5870, 0.1140])\n",
    "\n",
    "for plop in range(200):\n",
    "    CarRacing.render()\n",
    "    observation, reward, done, info = CarRacing.step(ACTION['Accelerate'])\n",
    "    #observation, reward, done, info = CarRacing.step(ACTION[random.choice(list(ACTION.keys()))])\n",
    "    observation = observation[:84, :] # 84 x 96 (PGCD = 12 donc 7 x 8)\n",
    "    gray = rgb2gray(observation)\n",
    "    diviseur = 12\n",
    "    new_width = 84 // diviseur\n",
    "    new_length = 96 // diviseur\n",
    "    new_gray = np.arange(new_width*new_length).reshape(new_width,new_length)\n",
    "    for i in range(new_width):\n",
    "        for j in range(new_length):\n",
    "            mean = 0.\n",
    "            for k in range(diviseur):\n",
    "                for l in range(diviseur):\n",
    "                    mean += gray[i*diviseur+k, j*diviseur+l]\n",
    "            mean = mean / (diviseur*diviseur)\n",
    "            new_gray[i][j] = mean\n",
    "    mean = 0.\n",
    "    for i in range(new_width):\n",
    "        for j in range(new_length):\n",
    "            mean += new_gray[i][j]\n",
    "    mean = mean / (new_width*new_length)\n",
    "    for i in range(new_width):\n",
    "        for j in range(new_length):\n",
    "            #if new_gray[i][j] <= mean:\n",
    "            if new_gray[i][j] <= 130:\n",
    "                new_gray[i][j] = 255\n",
    "            else:\n",
    "                new_gray[i][j] = 0\n",
    "    #if plop % 20 == 0:\n",
    "    #    plt.imshow(observation)\n",
    "    #    plt.show()\n",
    "    #    plt.imshow(new_gray, cmap=plt.get_cmap('gray'))\n",
    "    #    plt.show()\n",
    "    if done:\n",
    "        break\n",
    "CarRacing.close()"
   ]
  },
  {
   "cell_type": "code",
   "execution_count": null,
   "metadata": {},
   "outputs": [],
   "source": []
  }
 ],
 "metadata": {
  "file_extension": ".py",
  "kernelspec": {
   "display_name": "Python 3",
   "language": "python",
   "name": "python3"
  },
  "language_info": {
   "codemirror_mode": {
    "name": "ipython",
    "version": 3
   },
   "file_extension": ".py",
   "mimetype": "text/x-python",
   "name": "python",
   "nbconvert_exporter": "python",
   "pygments_lexer": "ipython3",
   "version": "3.7.9"
  },
  "mimetype": "text/x-python",
  "name": "python",
  "npconvert_exporter": "python",
  "pygments_lexer": "ipython3",
  "version": 3
 },
 "nbformat": 4,
 "nbformat_minor": 2
}
