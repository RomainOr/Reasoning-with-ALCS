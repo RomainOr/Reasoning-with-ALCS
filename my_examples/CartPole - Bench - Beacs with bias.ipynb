{
 "cells": [
  {
   "cell_type": "markdown",
   "metadata": {},
   "source": [
    "\n",
    "    This Source Code Form is subject to the terms of the Mozilla Public\n",
    "    License, v. 2.0. If a copy of the MPL was not distributed with this\n",
    "    file, You can obtain one at http://mozilla.org/MPL/2.0/.\n"
   ]
  },
  {
   "cell_type": "code",
   "execution_count": 4,
   "metadata": {
    "scrolled": false
   },
   "outputs": [],
   "source": [
    "# Enable automatic module reload\n",
    "%load_ext autoreload\n",
    "%autoreload 2\n",
    "\n",
    "# To ease the loading of modules\n",
    "import os\n",
    "import sys\n",
    "module_path = os.path.abspath(os.path.join('..'))\n",
    "if module_path not in sys.path:\n",
    "    sys.path.append(module_path)\n",
    "\n",
    "# Load BEACS module\n",
    "from agents.beacs import BEACS, BEACSConfiguration\n",
    "\n",
    "# Load particular Environment Adapter\n",
    "from my_examples.adapter.CartPoleEnvironmentAdapter import CartPoleEnvironmentAdapter\n",
    "\n",
    "# Load Metrics\n",
    "from my_examples.metrics.CartPoleMetrics import \\\n",
    "    _cartpole_metrics, \\\n",
    "    _check_cartpole_solved_requirement\n",
    "\n",
    "# Load environments\n",
    "import gym\n",
    "import matplotlib.pyplot as plt\n",
    "import pandas as pd\n",
    "import seaborn as sns"
   ]
  },
  {
   "cell_type": "markdown",
   "metadata": {},
   "source": [
    "# Agent - BEACS"
   ]
  },
  {
   "cell_type": "markdown",
   "metadata": {},
   "source": [
    "## Common parameters"
   ]
  },
  {
   "cell_type": "code",
   "execution_count": 5,
   "metadata": {
    "scrolled": false
   },
   "outputs": [],
   "source": [
    "#Environmental Set Up\n",
    "CARTPOLE = \"CartPole-v1\"\n",
    "CLASSIFIER_LENGTH = 4\n",
    "NUMBER_OF_POSSIBLE_ACTIONS = 2\n",
    "CART_POSITION = 1\n",
    "CART_VELOCITY = 1\n",
    "POLE_ANGLE = 6\n",
    "POLE_ANGULAR_VELOCITY = 3\n",
    "\n",
    "#Exploration Set Up\n",
    "NUMBER_OF_EXPLORE_TRIALS = 500\n",
    "EPSILON = 0.5\n",
    "BETA_ALP = 0.05\n",
    "\n",
    "#Exploitation Set Up\n",
    "NUMBER_OF_EXPLOIT_TRIALS = 500\n",
    "\n",
    "#RL Set Up\n",
    "GAMMA = 0.99\n",
    "BETA_RL = 0.1\n",
    "\n",
    "#BEACS Set Up\n",
    "ENABLE_EP = True\n",
    "\n",
    "#CRACS Set up\n",
    "APPLY_CRACS = False\n",
    "\n",
    "#Experiment Set up\n",
    "NB_ITERATIONS = 30"
   ]
  },
  {
   "cell_type": "markdown",
   "metadata": {},
   "source": [
    "## Environment - CartPole"
   ]
  },
  {
   "cell_type": "code",
   "execution_count": 6,
   "metadata": {
    "scrolled": false
   },
   "outputs": [],
   "source": [
    "def run_cartpole(nb_iteration):\n",
    "    \n",
    "    results = []\n",
    "    \n",
    "    for i in range(nb_iteration):\n",
    "    \n",
    "        # Initialize environment\n",
    "        CartPole = gym.make(CARTPOLE)\n",
    "        # Reset it, by putting an agent into random position\n",
    "        state = CartPole.reset()\n",
    "\n",
    "        buckets = (CART_POSITION, CART_VELOCITY, POLE_ANGLE, POLE_ANGULAR_VELOCITY)\n",
    "\n",
    "        cfg_explore = BEACSConfiguration(\n",
    "            classifier_length=CLASSIFIER_LENGTH,\n",
    "            number_of_possible_actions=NUMBER_OF_POSSIBLE_ACTIONS,\n",
    "            environment_adapter=CartPoleEnvironmentAdapter(buckets=buckets),\n",
    "            user_metrics_collector_fcn=_cartpole_metrics,\n",
    "            metrics_trial_frequency=1,\n",
    "            do_ep=ENABLE_EP,\n",
    "            beta_alp=BETA_ALP,\n",
    "            beta_rl=BETA_RL,\n",
    "            gamma=GAMMA,\n",
    "            epsilon=EPSILON,\n",
    "            u_max=CLASSIFIER_LENGTH,\n",
    "            mu=0.,\n",
    "            chi=0.,\n",
    "            bs_max=0,\n",
    "            seed=None\n",
    "        )\n",
    "\n",
    "        agent_explore = BEACS(cfg_explore)\n",
    "        population_explore, metrics_explore = agent_explore.explore(CartPole, NUMBER_OF_EXPLORE_TRIALS)\n",
    "        if APPLY_CRACS:\n",
    "            agent_explore.apply_CRACS()\n",
    "            population_explore = agent_explore.get_population()\n",
    "\n",
    "        cfg_exploit = BEACSConfiguration(\n",
    "            classifier_length=CLASSIFIER_LENGTH,\n",
    "            number_of_possible_actions=NUMBER_OF_POSSIBLE_ACTIONS,\n",
    "            environment_adapter=CartPoleEnvironmentAdapter(),\n",
    "            user_metrics_collector_fcn=_cartpole_metrics,\n",
    "            metrics_trial_frequency=1,\n",
    "            do_ep=ENABLE_EP,\n",
    "            beta_alp=BETA_ALP,\n",
    "            beta_rl=BETA_RL,\n",
    "            gamma=GAMMA,\n",
    "            epsilon=0.0,\n",
    "            u_max=CLASSIFIER_LENGTH,\n",
    "            bs_max=0,\n",
    "            seed=None\n",
    "        )\n",
    "        agent_exploit = BEACS(cfg_exploit, population_explore)\n",
    "        population_exploit, metrics_exploit = agent_exploit.exploit(CartPole, NUMBER_OF_EXPLOIT_TRIALS)\n",
    "\n",
    "        trials=[]\n",
    "        avg_step_explore = 0\n",
    "        for trial in metrics_explore:\n",
    "            trials.append(trial['steps_in_trial'])\n",
    "            avg_step_explore += trial['steps_in_trial']\n",
    "        avg_step_explore /= NUMBER_OF_EXPLORE_TRIALS / 1\n",
    "        avg_step_exploit = 0\n",
    "        for trial in metrics_exploit:\n",
    "            trials.append(trial['steps_in_trial'])\n",
    "            avg_step_exploit += trial['steps_in_trial']\n",
    "        avg_step_exploit /= NUMBER_OF_EXPLOIT_TRIALS\n",
    "        average_scores, solved = _check_cartpole_solved_requirement(trials)\n",
    "\n",
    "        cartpole_metrics = _cartpole_metrics(population_exploit, CartPole)\n",
    "\n",
    "        result = {\n",
    "            'number' : i+1,\n",
    "            'population' : cartpole_metrics['population'],\n",
    "            'numerosity' : cartpole_metrics['numerosity'],\n",
    "            'reliable'   : cartpole_metrics['reliable'],\n",
    "            'avg_step_explore' : avg_step_explore,\n",
    "            'avg_step_exploit' : avg_step_exploit,\n",
    "            'average_scores'   : average_scores,\n",
    "            'solved' : solved\n",
    "        }\n",
    "        print(\"Cartpole n°{} : average {} - solved at {}\".format(i+1, result['avg_step_exploit'], result['solved']))\n",
    "        results.append(result)\n",
    "    \n",
    "    return results"
   ]
  },
  {
   "cell_type": "code",
   "execution_count": 7,
   "metadata": {
    "scrolled": true
   },
   "outputs": [
    {
     "name": "stderr",
     "output_type": "stream",
     "text": [
      "/usr/local/Caskroom/miniconda/base/envs/alcs/lib/python3.10/site-packages/gym/utils/passive_env_checker.py:233: DeprecationWarning: `np.bool8` is a deprecated alias for `np.bool_`.  (Deprecated NumPy 1.24)\n",
      "  if not isinstance(terminated, (bool, np.bool8)):\n"
     ]
    },
    {
     "name": "stdout",
     "output_type": "stream",
     "text": [
      "Cartpole n°1 : average 31.876 - solved at -1\n",
      "Cartpole n°2 : average 20.892 - solved at -1\n",
      "Cartpole n°3 : average 20.946 - solved at -1\n",
      "Cartpole n°4 : average 23.888 - solved at -1\n",
      "Cartpole n°5 : average 24.13 - solved at -1\n",
      "Cartpole n°6 : average 20.93 - solved at -1\n",
      "Cartpole n°7 : average 24.108 - solved at -1\n",
      "Cartpole n°8 : average 20.95 - solved at -1\n",
      "Cartpole n°9 : average 20.974 - solved at -1\n",
      "Cartpole n°10 : average 21.052 - solved at -1\n",
      "Cartpole n°11 : average 20.892 - solved at -1\n",
      "Cartpole n°12 : average 24.414 - solved at -1\n",
      "Cartpole n°13 : average 20.864 - solved at -1\n",
      "Cartpole n°14 : average 24.264 - solved at -1\n",
      "Cartpole n°15 : average 24.082 - solved at -1\n",
      "Cartpole n°16 : average 24.434 - solved at -1\n",
      "Cartpole n°17 : average 24.272 - solved at -1\n",
      "Cartpole n°18 : average 20.854 - solved at -1\n",
      "Cartpole n°19 : average 20.402 - solved at -1\n",
      "Cartpole n°20 : average 20.94 - solved at -1\n",
      "Cartpole n°21 : average 56.564 - solved at -1\n",
      "Cartpole n°22 : average 20.912 - solved at -1\n",
      "Cartpole n°23 : average 20.924 - solved at -1\n",
      "Cartpole n°24 : average 20.986 - solved at -1\n",
      "Cartpole n°25 : average 24.048 - solved at -1\n",
      "Cartpole n°26 : average 21.014 - solved at -1\n",
      "Cartpole n°27 : average 20.872 - solved at -1\n",
      "Cartpole n°28 : average 21.02 - solved at -1\n",
      "Cartpole n°29 : average 24.43 - solved at -1\n",
      "Cartpole n°30 : average 21.006 - solved at -1\n"
     ]
    }
   ],
   "source": [
    "results = run_cartpole(NB_ITERATIONS)"
   ]
  },
  {
   "cell_type": "code",
   "execution_count": 8,
   "metadata": {},
   "outputs": [
    {
     "data": {
      "image/png": "[encoded data removed]",
      "text/plain": [
       "<Figure size 640x480 with 1 Axes>"
      ]
     },
     "metadata": {},
     "output_type": "display_data"
    }
   ],
   "source": [
    "def prepare_pandas_plotting_data(raw_data):\n",
    "    cleaned_data = {\n",
    "        'Episode' : [i for i in range(101,NUMBER_OF_EXPLORE_TRIALS+NUMBER_OF_EXPLOIT_TRIALS+1)]\n",
    "    }\n",
    "    for i in range(len(raw_data)):\n",
    "        cleaned_data[\"Cartpole n°\"+str(i+1)] = raw_data[i]['average_scores']\n",
    "    pandas_data = pd.DataFrame(cleaned_data)\n",
    "    return pandas_data\n",
    "\n",
    "pandas_data = prepare_pandas_plotting_data(results)\n",
    "\n",
    "palette = sns.color_palette('pastel')\n",
    "c=palette[1]\n",
    "sns.lineplot(x='Episode', y='value', data=pd.melt(pandas_data, ['Episode']), color=c)\n",
    "plt.xlabel(\"Episode\", fontsize = 14) # label for x-axis\n",
    "plt.ylabel(\"Average score\", fontsize = 14) # label for y-axis\n",
    "plt.show()"
   ]
  },
  {
   "cell_type": "code",
   "execution_count": 9,
   "metadata": {},
   "outputs": [],
   "source": [
    "pandas_data.to_csv('df_cartpole_beacs.csv', index=False)\n",
    "\n",
    "import json\n",
    "jsonString = json.dumps(results)\n",
    "jsonFile = open('df_cartpole_beacs.json', \"w\")\n",
    "jsonFile.write(jsonString)\n",
    "jsonFile.close()"
   ]
  }
 ],
 "metadata": {
  "file_extension": ".py",
  "kernelspec": {
   "display_name": "alcs",
   "language": "python",
   "name": "python3"
  },
  "language_info": {
   "codemirror_mode": {
    "name": "ipython",
    "version": 3
   },
   "file_extension": ".py",
   "mimetype": "text/x-python",
   "name": "python",
   "nbconvert_exporter": "python",
   "pygments_lexer": "ipython3",
   "version": "3.10.9"
  },
  "mimetype": "text/x-python",
  "name": "python",
  "npconvert_exporter": "python",
  "pygments_lexer": "ipython3",
  "version": 3
 },
 "nbformat": 4,
 "nbformat_minor": 2
}
