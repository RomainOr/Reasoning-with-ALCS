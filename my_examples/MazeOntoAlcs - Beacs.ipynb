{
 "cells": [
  {
   "attachments": {},
   "cell_type": "markdown",
   "metadata": {},
   "source": [
    "\n",
    "    This Source Code Form is subject to the terms of the Mozilla Public\n",
    "    License, v. 2.0. If a copy of the MPL was not distributed with this\n",
    "    file, You can obtain one at http://mozilla.org/MPL/2.0/.\n"
   ]
  },
  {
   "cell_type": "code",
   "execution_count": null,
   "metadata": {
    "scrolled": false
   },
   "outputs": [],
   "source": [
    "# Enable automatic module reload\n",
    "%load_ext autoreload\n",
    "%autoreload 2\n",
    "\n",
    "# To ease the loading of modules\n",
    "import os\n",
    "import sys\n",
    "module_path = os.path.abspath(os.path.join('..'))\n",
    "if module_path not in sys.path:\n",
    "    sys.path.append(module_path)\n",
    "\n",
    "# Load BEACS module\n",
    "from agents.beacs import BEACS, Configuration\n",
    "\n",
    "# Load Metrics\n",
    "from my_examples.metrics.MazeMetrics import \\\n",
    "    _maze_metrics, \\\n",
    "    _mean_reliable_classifier_specificity\n",
    "\n",
    "# Load Plotting Wrappers\n",
    "from my_examples.metrics.MazePlottingWrapper import \\\n",
    "    parse_metrics_to_df, \\\n",
    "    plot_performance\n",
    "\n",
    "# Load environments\n",
    "import gym\n",
    "import my_mazes"
   ]
  },
  {
   "attachments": {},
   "cell_type": "markdown",
   "metadata": {},
   "source": [
    "# Agent - BEACS"
   ]
  },
  {
   "attachments": {},
   "cell_type": "markdown",
   "metadata": {},
   "source": [
    "## Environment - Maze"
   ]
  },
  {
   "cell_type": "code",
   "execution_count": null,
   "metadata": {
    "scrolled": false
   },
   "outputs": [],
   "source": [
    "# Initialize environment\n",
    "maze = gym.make(\"MazeOntoLcs-v0\")\n",
    "# Set default reward when task is achieved\n",
    "maze.set_exit_reward(1000)\n",
    "# Set obstacle reward\n",
    "maze.set_obstacle_reward(-300)\n",
    "# Reset it, by putting an agent into random position\n",
    "maze.reset()\n",
    "# Render the state in ASCII\n",
    "maze.render('aliasing_human')"
   ]
  },
  {
   "attachments": {},
   "cell_type": "markdown",
   "metadata": {},
   "source": [
    "## Training of BEACS - Exploration"
   ]
  },
  {
   "cell_type": "code",
   "execution_count": null,
   "metadata": {
    "scrolled": true
   },
   "outputs": [],
   "source": [
    "%%time\n",
    "\n",
    "cfg_explore = Configuration(\n",
    "    classifier_length=8,\n",
    "    number_of_possible_actions=8,\n",
    "    user_metrics_collector_fcn=_maze_metrics,\n",
    "    metrics_trial_frequency=10,\n",
    "    do_pep=True,\n",
    "    beta_alp=0.05,\n",
    "    beta_rl=0.05,\n",
    "    gamma=0.95,\n",
    "    epsilon=0.8,\n",
    "    u_max=8,\n",
    "    mu=0.3,\n",
    "    chi=0.8,\n",
    "    bs_max=2\n",
    ")\n",
    "\n",
    "agent_explore = BEACS(cfg_explore)\n",
    "population_explore, metrics_explore = agent_explore.explore(maze, 1000)\n",
    "\n",
    "agent_explore.apply_cracs()\n",
    "population_explore = agent_explore.get_population()"
   ]
  },
  {
   "attachments": {},
   "cell_type": "markdown",
   "metadata": {},
   "source": [
    "### Performance"
   ]
  },
  {
   "cell_type": "code",
   "execution_count": null,
   "metadata": {
    "scrolled": false
   },
   "outputs": [],
   "source": [
    "metrics_trial_frequency_explore = cfg_explore.metrics_trial_frequency\n",
    "metrics_df = parse_metrics_to_df(metrics_explore, metrics_trial_frequency_explore, None, None)\n",
    "plot_performance(agent_explore, maze, metrics_df, cfg_explore, \"MazeOntoLcs-v0\", metrics_trial_frequency_explore, None)"
   ]
  },
  {
   "cell_type": "code",
   "execution_count": null,
   "metadata": {
    "scrolled": false
   },
   "outputs": [],
   "source": [
    "print(_maze_metrics(population_explore, maze))\n",
    "print(\"Mean reliable population specifity is \", _mean_reliable_classifier_specificity(population_explore, maze))"
   ]
  },
  {
   "attachments": {},
   "cell_type": "markdown",
   "metadata": {},
   "source": [
    "## Training of BEACS - Exploitation"
   ]
  },
  {
   "cell_type": "code",
   "execution_count": null,
   "metadata": {
    "scrolled": false
   },
   "outputs": [],
   "source": [
    "%%time\n",
    "\n",
    "cfg_exploit_no_rl = Configuration(\n",
    "    classifier_length=8,\n",
    "    number_of_possible_actions=8,\n",
    "    user_metrics_collector_fcn=_maze_metrics,\n",
    "    metrics_trial_frequency=1,\n",
    "    beta_rl=0.05,\n",
    "    gamma=0.95,\n",
    "    epsilon=0.2\n",
    ")\n",
    "\n",
    "agent_exploit_no_rl = BEACS(cfg_exploit_no_rl, population_explore)\n",
    "population_exploit_no_rl, metrics_exploit_no_rl = agent_exploit_no_rl.exploit(maze, 100)"
   ]
  },
  {
   "cell_type": "code",
   "execution_count": null,
   "metadata": {
    "scrolled": false
   },
   "outputs": [],
   "source": [
    "%%time\n",
    "\n",
    "cfg_exploit_rl_start = Configuration(\n",
    "    classifier_length=8,\n",
    "    number_of_possible_actions=8,\n",
    "    user_metrics_collector_fcn=_maze_metrics,\n",
    "    metrics_trial_frequency=1,\n",
    "    beta_rl=0.05,\n",
    "    gamma=0.95,\n",
    "    epsilon=0.0\n",
    ")\n",
    "\n",
    "agent_exploit_rl_start = BEACS(cfg_exploit_rl_start, population_exploit_no_rl)\n",
    "population_exploit_rl_start, metrics_exploit_rl_start = agent_exploit_rl_start.exploit(maze, 100)"
   ]
  },
  {
   "cell_type": "code",
   "execution_count": null,
   "metadata": {
    "scrolled": false
   },
   "outputs": [],
   "source": [
    "%%time\n",
    "\n",
    "cfg_exploit_rl = Configuration(\n",
    "    classifier_length=8,\n",
    "    number_of_possible_actions=8,\n",
    "    user_metrics_collector_fcn=_maze_metrics,\n",
    "    metrics_trial_frequency=1,\n",
    "    beta_rl=0.05,\n",
    "    gamma=0.95,\n",
    "    epsilon=0.0,\n",
    ")\n",
    "\n",
    "agent_exploit_rl = BEACS(cfg_exploit_rl, population_exploit_rl_start)\n",
    "population_exploit_rl, metrics_exploit_rl = agent_exploit_rl.exploit(maze, 100)"
   ]
  },
  {
   "attachments": {},
   "cell_type": "markdown",
   "metadata": {},
   "source": [
    "### Performance"
   ]
  },
  {
   "cell_type": "code",
   "execution_count": null,
   "metadata": {
    "scrolled": false
   },
   "outputs": [],
   "source": [
    "metrics_trial_frequency_explore = cfg_explore.metrics_trial_frequency\n",
    "metrics_trial_frequency_exploit = 1\n",
    "\n",
    "metrics_exploit = metrics_exploit_no_rl.copy()\n",
    "for idx, item in enumerate(metrics_exploit_rl_start):\n",
    "    tmp = item.copy()\n",
    "    tmp['trial'] += 100\n",
    "    metrics_exploit.append(tmp)\n",
    "for idx, item in enumerate(metrics_exploit_rl):\n",
    "    tmp = item.copy()\n",
    "    tmp['trial'] += 100 + 100\n",
    "    metrics_exploit.append(tmp)\n",
    "\n",
    "metrics_df = parse_metrics_to_df(metrics_explore, metrics_trial_frequency_explore, metrics_exploit, metrics_trial_frequency_exploit)\n",
    "plot_performance(agent_exploit_rl, maze, metrics_df, cfg_exploit_rl, \"MazeOntoLcs-v0\", metrics_trial_frequency_explore, [100,100,100])"
   ]
  },
  {
   "cell_type": "code",
   "execution_count": null,
   "metadata": {
    "scrolled": false
   },
   "outputs": [],
   "source": [
    "avg_step_explore = 0\n",
    "for trial in metrics_explore:\n",
    "    avg_step_explore += trial['steps_in_trial']\n",
    "avg_step_explore /= 1000 / metrics_trial_frequency_explore\n",
    "print(\"Average number of steps to solve the maze is \",avg_step_explore,\n",
    "      \" for a total of \", 1000, \" trials in exploration\")\n",
    "\n",
    "avg_step_exploit_no_rl = 0\n",
    "for trial in metrics_exploit_no_rl:\n",
    "    avg_step_exploit_no_rl += trial['steps_in_trial']\n",
    "avg_step_exploit_no_rl /= 100\n",
    "print(\"Average number of steps to solve the maze is \",avg_step_exploit_no_rl,\n",
    "      \" for a total of \", 100, \" trials in first exploitation step\")\n",
    "\n",
    "avg_step_exploit_rl_start = 0\n",
    "for trial in metrics_exploit_rl_start:\n",
    "    avg_step_exploit_rl_start += trial['steps_in_trial']\n",
    "avg_step_exploit_rl_start /= 100\n",
    "print(\"Average number of steps to solve the maze is \",avg_step_exploit_rl_start,\n",
    "      \" for a total of \", 100, \" trials in second exploitation step\")\n",
    "\n",
    "avg_step_exploit_rl = 0\n",
    "for trial in metrics_exploit_rl:\n",
    "    avg_step_exploit_rl += trial['steps_in_trial']\n",
    "avg_step_exploit_rl /= 100\n",
    "print(\"Average number of steps to solve the maze is \",avg_step_exploit_rl,\n",
    "      \" for a total of \", 100, \" trials in last exploitation step\")\n",
    "\n",
    "print(_maze_metrics(population_exploit_rl, maze))"
   ]
  },
  {
   "cell_type": "code",
   "execution_count": null,
   "metadata": {
    "scrolled": true
   },
   "outputs": [],
   "source": [
    "population_exploit_rl.sort(key=lambda cl: -cl.fitness)\n",
    "population_exploit_rl_to_display = [cl for cl in population_exploit_rl if cl.is_reliable()]\n",
    "print(len(population_exploit_rl_to_display))\n",
    "print(\"\\n\")\n",
    "for cl in population_exploit_rl_to_display:\n",
    "    print(cl)\n",
    "    print(\"\\n\")"
   ]
  }
 ],
 "metadata": {
  "file_extension": ".py",
  "kernelspec": {
   "display_name": "Python 3 (ipykernel)",
   "language": "python",
   "name": "python3"
  },
  "language_info": {
   "codemirror_mode": {
    "name": "ipython",
    "version": 3
   },
   "file_extension": ".py",
   "mimetype": "text/x-python",
   "name": "python",
   "nbconvert_exporter": "python",
   "pygments_lexer": "ipython3",
   "version": "3.10.9"
  },
  "mimetype": "text/x-python",
  "name": "python",
  "npconvert_exporter": "python",
  "pygments_lexer": "ipython3",
  "version": 3
 },
 "nbformat": 4,
 "nbformat_minor": 2
}
