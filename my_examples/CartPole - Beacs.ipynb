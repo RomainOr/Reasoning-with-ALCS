{
 "cells": [
  {
   "cell_type": "markdown",
   "metadata": {},
   "source": [
    "\n",
    "    This Source Code Form is subject to the terms of the Mozilla Public\n",
    "    License, v. 2.0. If a copy of the MPL was not distributed with this\n",
    "    file, You can obtain one at http://mozilla.org/MPL/2.0/.\n"
   ]
  },
  {
   "cell_type": "code",
   "execution_count": null,
   "metadata": {
    "scrolled": false
   },
   "outputs": [],
   "source": [
    "# Enable automatic module reload\n",
    "%load_ext autoreload\n",
    "%autoreload 2\n",
    "\n",
    "# To ease the loading of modules\n",
    "import os\n",
    "import sys\n",
    "module_path = os.path.abspath(os.path.join('..'))\n",
    "if module_path not in sys.path:\n",
    "    sys.path.append(module_path)\n",
    "\n",
    "# Load BEACS module\n",
    "from agents.beacs import BEACS, BEACSConfiguration\n",
    "\n",
    "# Load particular Environment Adapter\n",
    "from my_examples.adapter.CartPoleEnvironmentAdapter import CartPoleEnvironmentAdapter\n",
    "\n",
    "# Load Metrics\n",
    "from my_examples.metrics.CartPoleMetrics import \\\n",
    "    _cartpole_metrics, \\\n",
    "    _check_cartpole_solved_requirement\n",
    "\n",
    "# Load Plotting Wrappers\n",
    "from my_examples.metrics.CartPolePlottingWrapper import \\\n",
    "    parse_metrics_to_df, \\\n",
    "    plot_cartpole_performance, \\\n",
    "    plot_average_cartpole_performance\n",
    "\n",
    "# Load environments\n",
    "import gym"
   ]
  },
  {
   "cell_type": "markdown",
   "metadata": {},
   "source": [
    "# Agent - BEACS"
   ]
  },
  {
   "cell_type": "markdown",
   "metadata": {},
   "source": [
    "## Common parameters"
   ]
  },
  {
   "cell_type": "code",
   "execution_count": null,
   "metadata": {
    "scrolled": false
   },
   "outputs": [],
   "source": [
    "#Environmental Set Up\n",
    "CLASSIFIER_LENGTH = 4\n",
    "NUMBER_OF_POSSIBLE_ACTIONS = 2\n",
    "CARTPOLE = \"CartPole-v1\"\n",
    "CART_POSITION = 1\n",
    "CART_VELOCITY = 1\n",
    "POLE_ANGLE = 6\n",
    "POLE_ANGULAR_VELOCITY = 3\n",
    "\n",
    "#Exploration Set Up\n",
    "NUMBER_OF_EXPLORE_TRIALS = 500\n",
    "METRICS_TRIAL_FREQUENCY_EXPLORE = 1\n",
    "EPSILON = 0.5\n",
    "BETA_ALP = 0.05\n",
    "\n",
    "#Exploitation Set Up\n",
    "NUMBER_OF_EXPLOIT_TRIALS = 500\n",
    "\n",
    "#RL Set Up\n",
    "GAMMA = 0.95\n",
    "BETA_RL = 0.05\n",
    "\n",
    "#BEACS Set Up\n",
    "ENABLE_EP = True\n",
    "\n",
    "#CRACS Set up\n",
    "APPLY_CRACS = True\n",
    "\n",
    "#Seed\n",
    "SEED = None"
   ]
  },
  {
   "cell_type": "markdown",
   "metadata": {},
   "source": [
    "## Environment - CartPole"
   ]
  },
  {
   "cell_type": "code",
   "execution_count": null,
   "metadata": {
    "scrolled": false
   },
   "outputs": [],
   "source": [
    "# Initialize environment\n",
    "CartPole = gym.make(CARTPOLE)\n",
    "# Reset it, by putting an agent into random position\n",
    "state = CartPole.reset()"
   ]
  },
  {
   "cell_type": "markdown",
   "metadata": {},
   "source": [
    "## Training of BEACS - Exploration"
   ]
  },
  {
   "cell_type": "code",
   "execution_count": null,
   "metadata": {
    "scrolled": false
   },
   "outputs": [],
   "source": [
    "%%time\n",
    "\n",
    "buckets = (CART_POSITION, CART_VELOCITY, POLE_ANGLE, POLE_ANGULAR_VELOCITY)\n",
    "\n",
    "cfg_explore = BEACSConfiguration(\n",
    "    classifier_length=CLASSIFIER_LENGTH,\n",
    "    number_of_possible_actions=NUMBER_OF_POSSIBLE_ACTIONS,\n",
    "    environment_adapter=CartPoleEnvironmentAdapter(buckets=buckets),\n",
    "    user_metrics_collector_fcn=_cartpole_metrics,\n",
    "    metrics_trial_frequency=METRICS_TRIAL_FREQUENCY_EXPLORE,\n",
    "    do_ep=ENABLE_EP,\n",
    "    beta_alp=BETA_ALP,\n",
    "    beta_rl=BETA_RL,\n",
    "    gamma=GAMMA,\n",
    "    epsilon=EPSILON,\n",
    "    u_max=CLASSIFIER_LENGTH,\n",
    "    mu=0.,\n",
    "    chi=0.,\n",
    "    bs_max=0,\n",
    "    seed=SEED\n",
    ")\n",
    "\n",
    "agent_explore = BEACS(cfg_explore)\n",
    "population_explore, metrics_explore = agent_explore.explore(CartPole, NUMBER_OF_EXPLORE_TRIALS)"
   ]
  },
  {
   "cell_type": "markdown",
   "metadata": {},
   "source": [
    "### Performance"
   ]
  },
  {
   "cell_type": "code",
   "execution_count": null,
   "metadata": {
    "scrolled": true
   },
   "outputs": [],
   "source": [
    "print(_cartpole_metrics(population_explore, CartPole))\n",
    "\n",
    "if APPLY_CRACS:\n",
    "    agent_explore.apply_CRACS()\n",
    "    population_explore = agent_explore.get_population()\n",
    "\n",
    "print(_cartpole_metrics(population_explore, CartPole))"
   ]
  },
  {
   "cell_type": "code",
   "execution_count": null,
   "metadata": {
    "scrolled": false
   },
   "outputs": [],
   "source": [
    "metrics_trial_frequency_explore = cfg_explore.metrics_trial_frequency\n",
    "\n",
    "metrics_df = parse_metrics_to_df(metrics_explore, metrics_trial_frequency_explore, None)\n",
    "plot_cartpole_performance(agent_explore, CartPole, metrics_df, cfg_explore, CARTPOLE, metrics_trial_frequency_explore, None)"
   ]
  },
  {
   "cell_type": "code",
   "execution_count": null,
   "metadata": {
    "scrolled": true
   },
   "outputs": [],
   "source": [
    "population_explore.sort(key=lambda cl: -cl.fitness)\n",
    "population_explore_to_display = [cl for cl in population_explore]\n",
    "print(len(population_explore_to_display))\n",
    "print(\"\\n\")\n",
    "for cl in population_explore_to_display[:]:\n",
    "    print(cl)\n",
    "    print(\"\\n\")"
   ]
  },
  {
   "cell_type": "markdown",
   "metadata": {},
   "source": [
    "## Training of BEACS - Exploitation"
   ]
  },
  {
   "cell_type": "code",
   "execution_count": null,
   "metadata": {
    "scrolled": false
   },
   "outputs": [],
   "source": [
    "%%time\n",
    "\n",
    "cfg_exploit_rl = BEACSConfiguration(\n",
    "    classifier_length=CLASSIFIER_LENGTH,\n",
    "    number_of_possible_actions=NUMBER_OF_POSSIBLE_ACTIONS,\n",
    "    environment_adapter=CartPoleEnvironmentAdapter(),\n",
    "    user_metrics_collector_fcn=_cartpole_metrics,\n",
    "    metrics_trial_frequency=1,\n",
    "    do_ep=ENABLE_EP,\n",
    "    beta_alp=BETA_ALP,\n",
    "    beta_rl=BETA_RL,\n",
    "    gamma=GAMMA,\n",
    "    epsilon=0.0,\n",
    "    u_max=CLASSIFIER_LENGTH,\n",
    "    bs_max=0,\n",
    "    seed=SEED\n",
    ")\n",
    "\n",
    "agent_exploit_rl = BEACS(cfg_exploit_rl, population_explore)\n",
    "population_exploit_rl, metrics_exploit_rl = agent_exploit_rl.exploit(CartPole, NUMBER_OF_EXPLOIT_TRIALS)"
   ]
  },
  {
   "cell_type": "markdown",
   "metadata": {},
   "source": [
    "### Performance"
   ]
  },
  {
   "cell_type": "code",
   "execution_count": null,
   "metadata": {
    "scrolled": false
   },
   "outputs": [],
   "source": [
    "metrics_trial_frequency_explore = cfg_explore.metrics_trial_frequency\n",
    "metrics_trial_frequency_exploit = 1\n",
    "\n",
    "metrics_df = parse_metrics_to_df(metrics_explore, metrics_trial_frequency_explore, metrics_exploit_rl)\n",
    "plot_cartpole_performance(agent_exploit_rl, CartPole, metrics_df, cfg_exploit_rl, CARTPOLE, metrics_trial_frequency_explore, [NUMBER_OF_EXPLOIT_TRIALS])"
   ]
  },
  {
   "cell_type": "code",
   "execution_count": null,
   "metadata": {
    "scrolled": false
   },
   "outputs": [],
   "source": [
    "trials=[]\n",
    "\n",
    "avg_step_explore = 0\n",
    "for trial in metrics_explore:\n",
    "    trials.append(trial['steps_in_trial'])\n",
    "    avg_step_explore += trial['steps_in_trial']\n",
    "avg_step_explore /= NUMBER_OF_EXPLORE_TRIALS / metrics_trial_frequency_explore\n",
    "print(\"Average number of steps to solve the cartpole is \",avg_step_explore,\n",
    "      \" for a total of \", NUMBER_OF_EXPLORE_TRIALS, \" trials in EXPLORATION\")\n",
    "\n",
    "if NUMBER_OF_EXPLOIT_TRIALS:\n",
    "    avg_step_exploit_rl = 0\n",
    "    for trial in metrics_exploit_rl:\n",
    "        trials.append(trial['steps_in_trial'])\n",
    "        avg_step_exploit_rl += trial['steps_in_trial']\n",
    "    avg_step_exploit_rl /= NUMBER_OF_EXPLOIT_TRIALS\n",
    "    print(\"Average number of steps to solve the cartpole is \",avg_step_exploit_rl,\n",
    "          \" for a total of \", NUMBER_OF_EXPLOIT_TRIALS, \" trials in EXPLOITATION with Reinforcement Module\")\n",
    "\n",
    "print(_cartpole_metrics(population_explore, CartPole))\n",
    "print(_cartpole_metrics(population_exploit_rl, CartPole))\n",
    "\n",
    "average_scores, solved = _check_cartpole_solved_requirement(trials)"
   ]
  },
  {
   "cell_type": "code",
   "execution_count": null,
   "metadata": {
    "scrolled": false
   },
   "outputs": [],
   "source": [
    "plot_average_cartpole_performance(average_scores)"
   ]
  },
  {
   "cell_type": "code",
   "execution_count": null,
   "metadata": {
    "scrolled": true
   },
   "outputs": [],
   "source": [
    "# population_exploit_rl.sort(key=lambda cl: -cl.fitness)\n",
    "population_exploit_rl_to_display = [cl for cl in population_exploit_rl \n",
    "    if cl.behavioral_sequence or cl.is_enhanced()]\n",
    "print(len(population_exploit_rl_to_display))\n",
    "print(\"\\n\")\n",
    "for cl in population_exploit_rl_to_display[:5]:\n",
    "    print(cl)\n",
    "    print(\"\\n\")"
   ]
  }
 ],
 "metadata": {
  "file_extension": ".py",
  "kernelspec": {
   "display_name": "alcs",
   "language": "python",
   "name": "python3"
  },
  "language_info": {
   "codemirror_mode": {
    "name": "ipython",
    "version": 3
   },
   "file_extension": ".py",
   "mimetype": "text/x-python",
   "name": "python",
   "nbconvert_exporter": "python",
   "pygments_lexer": "ipython3",
   "version": "3.10.9"
  },
  "mimetype": "text/x-python",
  "name": "python",
  "npconvert_exporter": "python",
  "pygments_lexer": "ipython3",
  "version": 3
 },
 "nbformat": 4,
 "nbformat_minor": 2
}
